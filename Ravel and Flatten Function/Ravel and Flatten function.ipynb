{
 "cells": [
  {
   "cell_type": "code",
   "execution_count": 4,
   "id": "96132923-3e76-4dc6-a1b8-ccb8bc520579",
   "metadata": {},
   "outputs": [],
   "source": [
    "import random \n",
    "import pandas as pd \n",
    "import numpy as np"
   ]
  },
  {
   "cell_type": "code",
   "execution_count": 5,
   "id": "d7712dc3-290a-446b-92f1-44b7214eb788",
   "metadata": {},
   "outputs": [
    {
     "name": "stdout",
     "output_type": "stream",
     "text": [
      "[[42 52 47 66]\n",
      " [50 56  2 40]\n",
      " [ 0 62 92 15]\n",
      " [64 93 90 57]]\n"
     ]
    },
    {
     "data": {
      "text/plain": [
       "(4, 4)"
      ]
     },
     "execution_count": 5,
     "metadata": {},
     "output_type": "execute_result"
    }
   ],
   "source": [
    " \n",
    "p=np.random.randint(0,100,size=(4,4))\n",
    "print(p)\n",
    "p.shape\n",
    "\n"
   ]
  },
  {
   "cell_type": "code",
   "execution_count": 6,
   "id": "c9c779be-0c56-434a-a9f5-ba6433c9247c",
   "metadata": {},
   "outputs": [
    {
     "data": {
      "text/plain": [
       "numpy.ndarray"
      ]
     },
     "execution_count": 6,
     "metadata": {},
     "output_type": "execute_result"
    }
   ],
   "source": [
    "type(p)\n",
    "\n"
   ]
  },
  {
   "cell_type": "code",
   "execution_count": 7,
   "id": "385fb17c-8e2e-417d-a337-bbe0ff0845ff",
   "metadata": {},
   "outputs": [
    {
     "name": "stdout",
     "output_type": "stream",
     "text": [
      "[[42 52 47 66]\n",
      " [50 56  2 40]\n",
      " [ 0 62 92 15]\n",
      " [64 93 90 57]]\n"
     ]
    },
    {
     "data": {
      "text/plain": [
       "(4, 4)"
      ]
     },
     "execution_count": 7,
     "metadata": {},
     "output_type": "execute_result"
    }
   ],
   "source": [
    "pm=np.matrix(p)\n",
    "print(pm)\n",
    "pm.shape\n",
    "\n"
   ]
  },
  {
   "cell_type": "code",
   "execution_count": 8,
   "id": "8d22a18c-e53f-468a-8a47-cab1c7733b24",
   "metadata": {},
   "outputs": [
    {
     "data": {
      "text/plain": [
       "numpy.matrix"
      ]
     },
     "execution_count": 8,
     "metadata": {},
     "output_type": "execute_result"
    }
   ],
   "source": [
    "type(pm)\n",
    "\n"
   ]
  },
  {
   "cell_type": "markdown",
   "id": "4d357404-98f0-43ef-a71b-7b765ed1864f",
   "metadata": {},
   "source": [
    "# Appling Ravel Function \n"
   ]
  },
  {
   "cell_type": "code",
   "execution_count": 9,
   "id": "f24a75bf-6224-4cc2-9568-5f776fa80931",
   "metadata": {},
   "outputs": [
    {
     "name": "stdout",
     "output_type": "stream",
     "text": [
      "[42 52 47 66 50 56  2 40  0 62 92 15 64 93 90 57]\n"
     ]
    },
    {
     "data": {
      "text/plain": [
       "(16,)"
      ]
     },
     "execution_count": 9,
     "metadata": {},
     "output_type": "execute_result"
    }
   ],
   "source": [
    "\n",
    "p_ravel=np.ravel(p) \n",
    "print(p_ravel)\n",
    "p_ravel.shape\n"
   ]
  },
  {
   "cell_type": "code",
   "execution_count": null,
   "id": "04de971b-d80d-4e58-bac5-a93f56d2814f",
   "metadata": {},
   "outputs": [],
   "source": []
  },
  {
   "cell_type": "code",
   "execution_count": 10,
   "id": "76b1ff30-c13a-41a3-b314-af645c164de4",
   "metadata": {},
   "outputs": [
    {
     "data": {
      "text/plain": [
       "numpy.ndarray"
      ]
     },
     "execution_count": 10,
     "metadata": {},
     "output_type": "execute_result"
    }
   ],
   "source": [
    "\n",
    "type(p_ravel)\n"
   ]
  },
  {
   "cell_type": "markdown",
   "id": "025344d6-32e2-44ea-b5a1-1b8c891fd059",
   "metadata": {},
   "source": [
    "# Applying flatten Function "
   ]
  },
  {
   "cell_type": "code",
   "execution_count": null,
   "id": "1a795b0d-d29c-4d23-9f05-20d9f056cac7",
   "metadata": {},
   "outputs": [],
   "source": []
  },
  {
   "cell_type": "code",
   "execution_count": 11,
   "id": "1d39a59a-01df-4f45-8553-abadefcc4cbb",
   "metadata": {},
   "outputs": [
    {
     "name": "stdout",
     "output_type": "stream",
     "text": [
      "[42 52 47 66 50 56  2 40  0 62 92 15 64 93 90 57]\n"
     ]
    },
    {
     "data": {
      "text/plain": [
       "(16,)"
      ]
     },
     "execution_count": 11,
     "metadata": {},
     "output_type": "execute_result"
    }
   ],
   "source": [
    "p_flatten=p.flatten()\n",
    "print(p_flatten)\n",
    "p_flatten.shape"
   ]
  },
  {
   "cell_type": "code",
   "execution_count": null,
   "id": "27b26f8d-4008-4e00-b604-085160523a21",
   "metadata": {},
   "outputs": [],
   "source": []
  },
  {
   "cell_type": "markdown",
   "id": "c3685f08-dd2a-4b51-8ed3-e5323ac48118",
   "metadata": {},
   "source": [
    "## applying Change on the ravel function applied variable \n"
   ]
  },
  {
   "cell_type": "code",
   "execution_count": null,
   "id": "d5fcb70b-e1a8-4450-a487-b3e8570a28f6",
   "metadata": {},
   "outputs": [],
   "source": []
  },
  {
   "cell_type": "code",
   "execution_count": 12,
   "id": "8f0b1d1b-5d16-44d5-aa6b-04f3d41df7b1",
   "metadata": {},
   "outputs": [
    {
     "name": "stdout",
     "output_type": "stream",
     "text": [
      "[[-1 52 47 66]\n",
      " [50 56  2 40]\n",
      " [ 0 62 92 15]\n",
      " [64 93 90 57]]\n"
     ]
    }
   ],
   "source": [
    "p_ravel[0]=-1\n",
    "p_ravel\n",
    "\n",
    "print(p)"
   ]
  },
  {
   "cell_type": "code",
   "execution_count": null,
   "id": "dc0c6bb9-a8f6-40e4-b1e1-5fb4af119f34",
   "metadata": {},
   "outputs": [],
   "source": []
  },
  {
   "cell_type": "markdown",
   "id": "a8e79f75-4f5f-4b6d-9c56-3a257f0f6318",
   "metadata": {},
   "source": [
    "## Aplying Change on the flatten function Applied variable \n"
   ]
  },
  {
   "cell_type": "code",
   "execution_count": null,
   "id": "d39896e3-80d3-4fe6-a36c-06e641a262e4",
   "metadata": {},
   "outputs": [],
   "source": []
  },
  {
   "cell_type": "code",
   "execution_count": 13,
   "id": "60115e3a-e7b4-45ed-a664-f99d1ceb0b90",
   "metadata": {},
   "outputs": [
    {
     "name": "stdout",
     "output_type": "stream",
     "text": [
      "[42 -1 47 66 50 56  2 40  0 62 92 15 64 93 90 57]\n",
      "[[-1 52 47 66]\n",
      " [50 56  2 40]\n",
      " [ 0 62 92 15]\n",
      " [64 93 90 57]]\n"
     ]
    }
   ],
   "source": [
    "p_flatten[1]=-1\n",
    "print(p_flatten)\n",
    "\n",
    "print(p)"
   ]
  }
 ],
 "metadata": {
  "kernelspec": {
   "display_name": "Python 3 (ipykernel)",
   "language": "python",
   "name": "python3"
  },
  "language_info": {
   "codemirror_mode": {
    "name": "ipython",
    "version": 3
   },
   "file_extension": ".py",
   "mimetype": "text/x-python",
   "name": "python",
   "nbconvert_exporter": "python",
   "pygments_lexer": "ipython3",
   "version": "3.13.3"
  }
 },
 "nbformat": 4,
 "nbformat_minor": 5
}
