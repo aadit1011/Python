{
 "cells": [
  {
   "cell_type": "code",
   "execution_count": 13,
   "id": "e6fb84f4-993b-47d9-8601-fb60be92d293",
   "metadata": {},
   "outputs": [
    {
     "name": "stdout",
     "output_type": "stream",
     "text": [
      "['1cg2.jpg', '1cg3.jpg', '1cg4.jpg', '1cg5.jpg', '2cg1.jpg', '2cg2.jpg', '2cg3.jpg', '2xg4.jpg', 'advice.jpg', 'ai.jpg', 'ai2.jpg', 'ai3.jpg', 'ai4.jpg', 'ai5.jpg', 'ai6.jpg', 'ai7.jpg', 'apples.jpg', 'back_lc300.jpg', 'cg.jpg', 'cg1.jpg', 'cg2.jpg', 'cg3.jpg', 'cg4.jpg', 'cg5.jpg', 'dda.jpg', 'dda2.jpg', 'dda3.jpg', 'dda4.jpg', 'dda5.jpg', 'Kathmandu_villa.jpg', 'Krishna-Wallpapers-New-Images-Photos-Pictures.jpg', 'Krishna-Wallpapers-New-Images-Photos-Pictures2.jpg', 'l4.jpg', 'lc300.jpg', 'lc3002.jpg', 'lc3003.jpg', 'learning.jpg', 'love.jpg', 'neville.jpg', 'neville_goddard.jpg', 'pexels-esmihel-18369298.jpg', 'presentation_tips.jpg', 'print.jpg', 'Radha-Krishna-Wallpaper-for-Mobile.jpg', 'rr.jpg', 'truth.jpg']\n"
     ]
    }
   ],
   "source": [
    "# Listing those files from the directory that ends with .jpg format\n",
    "\n",
    "import os \n",
    "\n",
    "files=[file for file in os.listdir('D:\\\\Temp') if file.endswith('.jpg')]\n",
    "print(files)\n"
   ]
  },
  {
   "cell_type": "code",
   "execution_count": 19,
   "id": "1691f4dc-16c6-4aba-a7b5-cfa5319573d9",
   "metadata": {},
   "outputs": [
    {
     "data": {
      "text/plain": [
       "[6, 7, 8, 9, 10]"
      ]
     },
     "execution_count": 19,
     "metadata": {},
     "output_type": "execute_result"
    }
   ],
   "source": [
    "#TO filter those numbers greater than 5\n",
    "\n",
    "numbers=[numb for numb in [1,2,3,4,5,6,7,8,9,10] if numb>5]\n",
    "numbers\n",
    "\n"
   ]
  },
  {
   "cell_type": "code",
   "execution_count": 20,
   "id": "a269a885-4743-43f3-a125-08ed295d2084",
   "metadata": {},
   "outputs": [
    {
     "name": "stdout",
     "output_type": "stream",
     "text": [
      "[(0, 1), (0, 2), (1, 0), (1, 2), (2, 0), (2, 1)]\n"
     ]
    }
   ],
   "source": [
    "# TO list pairs\n",
    "pairs = [(x, y) for x in range(3) for y in range(3) if x != y]\n",
    "print(pairs)\n"
   ]
  },
  {
   "cell_type": "code",
   "execution_count": 22,
   "id": "23ef92dd-38bc-40e5-aa63-95494e2bed3f",
   "metadata": {},
   "outputs": [
    {
     "data": {
      "text/plain": [
       "['1cg2.jpg',\n",
       " '1cg3.jpg',\n",
       " '1cg4.jpg',\n",
       " '1cg5.jpg',\n",
       " '2cg1.jpg',\n",
       " '2cg2.jpg',\n",
       " '2cg3.jpg',\n",
       " '2xg4.jpg',\n",
       " 'advice.jpg',\n",
       " 'ai.jpg',\n",
       " 'ai2.jpg',\n",
       " 'ai3.jpg',\n",
       " 'ai4.jpg',\n",
       " 'ai5.jpg',\n",
       " 'ai6.jpg',\n",
       " 'ai7.jpg',\n",
       " 'apples.jpg',\n",
       " 'back_lc300.jpg',\n",
       " 'cg.jpg',\n",
       " 'cg1.jpg',\n",
       " 'cg2.jpg',\n",
       " 'cg3.jpg',\n",
       " 'cg4.jpg',\n",
       " 'cg5.jpg',\n",
       " 'dda.jpg',\n",
       " 'dda2.jpg',\n",
       " 'dda3.jpg',\n",
       " 'dda4.jpg',\n",
       " 'dda5.jpg',\n",
       " 'Kathmandu_villa.jpg',\n",
       " 'Krishna-Wallpapers-New-Images-Photos-Pictures.jpg',\n",
       " 'Krishna-Wallpapers-New-Images-Photos-Pictures2.jpg',\n",
       " 'l4.jpg',\n",
       " 'lc300.jpg',\n",
       " 'lc3002.jpg',\n",
       " 'lc3003.jpg',\n",
       " 'learning.jpg',\n",
       " 'love.jpg',\n",
       " 'neville.jpg',\n",
       " 'neville_goddard.jpg',\n",
       " 'pexels-esmihel-18369298.jpg',\n",
       " 'presentation_tips.jpg',\n",
       " 'print.jpg',\n",
       " 'Radha-Krishna-Wallpaper-for-Mobile.jpg',\n",
       " 'rr.jpg',\n",
       " 'truth.jpg']"
      ]
     },
     "execution_count": 22,
     "metadata": {},
     "output_type": "execute_result"
    }
   ],
   "source": [
    "# To list all files \n",
    "\n",
    "files=[file for file in os.listdir('D:\\\\Temp') if file.endswith('.jpg')]\n",
    "files\n"
   ]
  },
  {
   "cell_type": "code",
   "execution_count": 24,
   "id": "c03821ee-2276-4421-a671-393424e3ed30",
   "metadata": {},
   "outputs": [
    {
     "data": {
      "text/plain": [
       "['1CG2.JPG',\n",
       " '1CG3.JPG',\n",
       " '1CG4.JPG',\n",
       " '1CG5.JPG',\n",
       " '2CG1.JPG',\n",
       " '2CG2.JPG',\n",
       " '2CG3.JPG',\n",
       " '2XG4.JPG',\n",
       " 'ADVICE.JPG',\n",
       " 'AI.JPG',\n",
       " 'AI2.JPG',\n",
       " 'AI3.JPG',\n",
       " 'AI4.JPG',\n",
       " 'AI5.JPG',\n",
       " 'AI6.JPG',\n",
       " 'AI7.JPG',\n",
       " 'APPLES.JPG',\n",
       " 'BACK_LC300.JPG',\n",
       " 'CG.JPG',\n",
       " 'CG1.JPG',\n",
       " 'CG2.JPG',\n",
       " 'CG3.JPG',\n",
       " 'CG4.JPG',\n",
       " 'CG5.JPG',\n",
       " 'DDA.JPG',\n",
       " 'DDA2.JPG',\n",
       " 'DDA3.JPG',\n",
       " 'DDA4.JPG',\n",
       " 'DDA5.JPG',\n",
       " 'KATHMANDU_VILLA.JPG',\n",
       " 'KRISHNA-WALLPAPERS-NEW-IMAGES-PHOTOS-PICTURES.JPG',\n",
       " 'KRISHNA-WALLPAPERS-NEW-IMAGES-PHOTOS-PICTURES2.JPG',\n",
       " 'L4.JPG',\n",
       " 'LC300.JPG',\n",
       " 'LC3002.JPG',\n",
       " 'LC3003.JPG',\n",
       " 'LEARNING.JPG',\n",
       " 'LOVE.JPG',\n",
       " 'NEVILLE.JPG',\n",
       " 'NEVILLE_GODDARD.JPG',\n",
       " 'PEXELS-ESMIHEL-18369298.JPG',\n",
       " 'PRESENTATION_TIPS.JPG',\n",
       " 'PRINT.JPG',\n",
       " 'RADHA-KRISHNA-WALLPAPER-FOR-MOBILE.JPG',\n",
       " 'RR.JPG',\n",
       " 'TRUTH.JPG']"
      ]
     },
     "execution_count": 24,
     "metadata": {},
     "output_type": "execute_result"
    }
   ],
   "source": [
    "# TO convert a;; of them in upper casing \n",
    "\n",
    "file=[f.upper() for f in files]\n",
    "file"
   ]
  },
  {
   "cell_type": "code",
   "execution_count": 27,
   "id": "9aa75159-e754-426b-86c5-b80ce312e26d",
   "metadata": {},
   "outputs": [
    {
     "data": {
      "text/plain": [
       "['1cg2.jpg',\n",
       " '1cg3.jpg',\n",
       " '1cg4.jpg',\n",
       " '1cg5.jpg',\n",
       " '2cg1.jpg',\n",
       " '2cg2.jpg',\n",
       " '2cg3.jpg',\n",
       " '2xg4.jpg',\n",
       " 'ai.jpg',\n",
       " 'ai2.jpg',\n",
       " 'ai3.jpg',\n",
       " 'ai4.jpg',\n",
       " 'ai5.jpg',\n",
       " 'ai6.jpg',\n",
       " 'ai7.jpg',\n",
       " 'cg.jpg',\n",
       " 'cg1.jpg',\n",
       " 'cg2.jpg',\n",
       " 'cg3.jpg',\n",
       " 'cg4.jpg',\n",
       " 'cg5.jpg',\n",
       " 'dda.jpg',\n",
       " 'dda2.jpg',\n",
       " 'dda3.jpg',\n",
       " 'dda4.jpg',\n",
       " 'dda5.jpg',\n",
       " 'l4.jpg',\n",
       " 'love.jpg',\n",
       " 'rr.jpg']"
      ]
     },
     "execution_count": 27,
     "metadata": {},
     "output_type": "execute_result"
    }
   ],
   "source": [
    "# To list those files with name length smaller than 8\n",
    "\n",
    "l5=[file for file in files if len(file)<=8]\n",
    "l5"
   ]
  },
  {
   "cell_type": "code",
   "execution_count": 28,
   "id": "b4acde30-fba4-4947-94b8-ff95988e992c",
   "metadata": {},
   "outputs": [
    {
     "data": {
      "text/plain": [
       "[0, 4, 16, 36, 64, 100, 144, 196, 256, 324, 400]"
      ]
     },
     "execution_count": 28,
     "metadata": {},
     "output_type": "execute_result"
    }
   ],
   "source": [
    "# Write a list comprehension to create a list of the squares of even numbers from 0 to 20.\n",
    "\n",
    "sqn_num=[n*n for n in range(0,21) if n%2==0]\n",
    "sqn_num\n",
    "\n"
   ]
  },
  {
   "cell_type": "code",
   "execution_count": 31,
   "id": "d016fdb2-37e8-4360-8486-d0e8e176f74c",
   "metadata": {},
   "outputs": [
    {
     "data": {
      "text/plain": [
       "['advice.jpg',\n",
       " 'ai.jpg',\n",
       " 'ai2.jpg',\n",
       " 'ai3.jpg',\n",
       " 'ai4.jpg',\n",
       " 'ai5.jpg',\n",
       " 'ai6.jpg',\n",
       " 'ai7.jpg',\n",
       " 'apples.jpg',\n",
       " 'back_lc300.jpg',\n",
       " 'dda.jpg',\n",
       " 'dda2.jpg',\n",
       " 'dda3.jpg',\n",
       " 'dda4.jpg',\n",
       " 'dda5.jpg',\n",
       " 'Kathmandu_villa.jpg',\n",
       " 'Krishna-Wallpapers-New-Images-Photos-Pictures.jpg',\n",
       " 'Krishna-Wallpapers-New-Images-Photos-Pictures2.jpg',\n",
       " 'learning.jpg',\n",
       " 'neville_goddard.jpg',\n",
       " 'presentation_tips.jpg',\n",
       " 'Radha-Krishna-Wallpaper-for-Mobile.jpg']"
      ]
     },
     "execution_count": 31,
     "metadata": {},
     "output_type": "execute_result"
    }
   ],
   "source": [
    "# Extract filenames that contain the letter 'a'\n",
    "\n",
    "file_with_a=[f for f in files if 'a' in f]\n",
    "file_with_a\n"
   ]
  }
 ],
 "metadata": {
  "kernelspec": {
   "display_name": "Python 3 (ipykernel)",
   "language": "python",
   "name": "python3"
  },
  "language_info": {
   "codemirror_mode": {
    "name": "ipython",
    "version": 3
   },
   "file_extension": ".py",
   "mimetype": "text/x-python",
   "name": "python",
   "nbconvert_exporter": "python",
   "pygments_lexer": "ipython3",
   "version": "3.12.2"
  }
 },
 "nbformat": 4,
 "nbformat_minor": 5
}
