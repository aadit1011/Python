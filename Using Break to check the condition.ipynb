{
 "cells": [
  {
   "cell_type": "code",
   "execution_count": 2,
   "id": "a780e727-5c77-40a2-9855-00e4d66ce7c5",
   "metadata": {},
   "outputs": [
    {
     "name": "stdout",
     "output_type": "stream",
     "text": [
      "No a or i detected in your name..dsrterp\n"
     ]
    }
   ],
   "source": [
    "name=input(\"Please..Enter your name=\");\n",
    "for words in name:\n",
    "        if words==\"a\" or words==\"i\":\n",
    "            print(f\"There is letter a or i detected in your name...{name}\");\n",
    "            break;\n",
    "else:\n",
    "        print(f\"No a or i detected in your name..{name}\");"
   ]
  },
  {
   "cell_type": "code",
   "execution_count": null,
   "id": "43f49632",
   "metadata": {},
   "outputs": [],
   "source": []
  }
 ],
 "metadata": {
  "kernelspec": {
   "display_name": "Python 3 (ipykernel)",
   "language": "python",
   "name": "python3"
  },
  "language_info": {
   "codemirror_mode": {
    "name": "ipython",
    "version": 3
   },
   "file_extension": ".py",
   "mimetype": "text/x-python",
   "name": "python",
   "nbconvert_exporter": "python",
   "pygments_lexer": "ipython3",
   "version": "3.12.2"
  }
 },
 "nbformat": 4,
 "nbformat_minor": 5
}
