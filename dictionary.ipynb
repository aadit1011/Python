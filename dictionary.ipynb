{
 "cells": [
  {
   "cell_type": "code",
   "execution_count": 3,
   "id": "d8bcc524-c94b-4fd9-b1a8-745cf957a51d",
   "metadata": {},
   "outputs": [
    {
     "name": "stdout",
     "output_type": "stream",
     "text": [
      "Aadit, Pepsicola, 7\n",
      "Bipin, Anamnagar, 10\n",
      "Ankit, Santinagar, 5\n",
      "Roshan, Chabahil, 12\n"
     ]
    }
   ],
   "source": [
    "students=[\n",
    "    {\"name\":\"Aadit\",\"address\":\"Pepsicola\",\"roll\":7},\n",
    "    {\"name\":\"Bipin\",\"address\":\"Anamnagar\",\"roll\":10},\n",
    "    {\"name\":\"Ankit\",\"address\":\"Santinagar\",\"roll\":5},\n",
    "    {\"name\":\"Roshan\",\"address\":\"Chabahil\",\"roll\":12}\n",
    "];\n",
    "for student in students:\n",
    "        print( student[\"name\"],student[\"address\"],student[\"roll\"],sep=\", \");"
   ]
  },
  {
   "cell_type": "code",
   "execution_count": null,
   "id": "4bbfb41b-45e9-4db4-b1b5-c6b6e4462de5",
   "metadata": {},
   "outputs": [],
   "source": []
  }
 ],
 "metadata": {
  "kernelspec": {
   "display_name": "Python 3 (ipykernel)",
   "language": "python",
   "name": "python3"
  },
  "language_info": {
   "codemirror_mode": {
    "name": "ipython",
    "version": 3
   },
   "file_extension": ".py",
   "mimetype": "text/x-python",
   "name": "python",
   "nbconvert_exporter": "python",
   "pygments_lexer": "ipython3",
   "version": "3.12.2"
  }
 },
 "nbformat": 4,
 "nbformat_minor": 5
}
