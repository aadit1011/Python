{
 "cells": [
  {
   "cell_type": "code",
   "execution_count": 4,
   "id": "d6c2111f-a6a9-44c3-aefc-0d3016225e4e",
   "metadata": {},
   "outputs": [
    {
     "name": "stderr",
     "output_type": "stream",
     "text": [
      "<>:14: SyntaxWarning: \"is\" with 'str' literal. Did you mean \"==\"?\n",
      "<>:14: SyntaxWarning: \"is\" with 'str' literal. Did you mean \"==\"?\n"
     ]
    },
    {
     "name": "stdout",
     "output_type": "stream",
     "text": [
      "Printing the random name.....\n"
     ]
    },
    {
     "name": "stdin",
     "output_type": "stream",
     "text": [
      "Please!Enter your gender\n",
      "m for male\n",
      " f for female= m\n",
      "Please!Enter your name= Aadit\n"
     ]
    },
    {
     "name": "stdout",
     "output_type": "stream",
     "text": [
      "Aadit you have got random date  with  ['Kritika', 'Rejina', 'Silpa', 'Priyanka', 'Keerthi', 'Deepika'] for tonight\n"
     ]
    },
    {
     "name": "stderr",
     "output_type": "stream",
     "text": [
      "C:\\Users\\hp\\AppData\\Local\\Temp\\ipykernel_9868\\621355588.py:14: SyntaxWarning: \"is\" with 'str' literal. Did you mean \"==\"?\n",
      "  if gender is 'f':\n"
     ]
    }
   ],
   "source": [
    "import random;\n",
    "print(\"Printing the random name.....\");\n",
    "girls=[\n",
    "   'Kritika','Rejina','Silpa','Priyanka','Keerthi','Deepika'\n",
    "];\n",
    "boys=[\n",
    "    'Aadit','Max',' Stuart','David','Rahul','Rohit','Ronaldo','Messi','Neymar','Carl'\n",
    "];\n",
    "\n",
    "boy=random.choice(boys);\n",
    "girl=random.choice(girls);\n",
    "gender=input(\"Please!Enter your gender\\nm for male\\nf for female=\");\n",
    "name=input(\"Please!Enter your name=\");\n",
    "if gender 'f':\n",
    "    print(f\"{name} you have got random date  with  {boys} for tonight\");\n",
    "else:\n",
    "    print(f\"{name} you have got random date  with  {girls} for tonight\");"
   ]
  },
  {
   "cell_type": "code",
   "execution_count": null,
   "id": "f686a0b0-85ce-4a78-9fef-ae7304f5a532",
   "metadata": {},
   "outputs": [],
   "source": []
  }
 ],
 "metadata": {
  "kernelspec": {
   "display_name": "Python 3 (ipykernel)",
   "language": "python",
   "name": "python3"
  },
  "language_info": {
   "codemirror_mode": {
    "name": "ipython",
    "version": 3
   },
   "file_extension": ".py",
   "mimetype": "text/x-python",
   "name": "python",
   "nbconvert_exporter": "python",
   "pygments_lexer": "ipython3",
   "version": "3.12.2"
  }
 },
 "nbformat": 4,
 "nbformat_minor": 5
}
