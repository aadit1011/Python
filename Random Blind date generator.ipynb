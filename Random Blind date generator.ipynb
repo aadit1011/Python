{
 "cells": [
  {
   "cell_type": "code",
   "execution_count": 3,
   "id": "c7863bec-3573-4b68-ba8b-1c6df1b3248f",
   "metadata": {},
   "outputs": [
    {
     "name": "stdin",
     "output_type": "stream",
     "text": [
      "Enter your gender\n",
      "m for male and \n",
      "f for female.. m\n",
      "Enter your name Aadit\n"
     ]
    },
    {
     "name": "stdout",
     "output_type": "stream",
     "text": [
      "Mr.Aadit you have Blind Date tonight with Miss Priyanka\n"
     ]
    }
   ],
   "source": [
    "import random;\n",
    "boys=[\n",
    "    'Aadit','Bardan','Biyash','Bipin','Ankit','Roshan','Max','David','Rahul','Rohit','Hardik'\n",
    "];\n",
    "girls=[\n",
    "    'Deepika','Priyanka','Katrina','Geeta','Sita','Keerthi','Kritika','Shilpa'\n",
    "];\n",
    "boy=random.choice(boys);\n",
    "girl=random.choice(girls);\n",
    "gender=input(\"Enter your gender\\nm for male and \\nf for female..\");\n",
    "name=input(\"Enter your name\");\n",
    "if gender=='m':\n",
    "        print(f\"Mr.{name} you have Blind Date tonight with Miss {girl}\");\n",
    "else:\n",
    "    print(f\"Miss {name} you have Blind Date tonight with Mr.{boy}\");"
   ]
  },
  {
   "cell_type": "code",
   "execution_count": null,
   "id": "adf0729d-6cb9-4474-a8a8-dce98ba9993c",
   "metadata": {},
   "outputs": [],
   "source": [
    "\""
   ]
  }
 ],
 "metadata": {
  "kernelspec": {
   "display_name": "Python 3 (ipykernel)",
   "language": "python",
   "name": "python3"
  },
  "language_info": {
   "codemirror_mode": {
    "name": "ipython",
    "version": 3
   },
   "file_extension": ".py",
   "mimetype": "text/x-python",
   "name": "python",
   "nbconvert_exporter": "python",
   "pygments_lexer": "ipython3",
   "version": "3.12.2"
  }
 },
 "nbformat": 4,
 "nbformat_minor": 5
}
