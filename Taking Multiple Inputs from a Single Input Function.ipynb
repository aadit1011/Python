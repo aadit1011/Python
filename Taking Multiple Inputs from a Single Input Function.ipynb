{
 "cells": [
  {
   "cell_type": "code",
   "execution_count": null,
   "id": "dd8539b0-0ca8-4b4d-a0b5-1c7d53253193",
   "metadata": {},
   "outputs": [],
   "source": [
    "name, address, age=input(\"Enter name (Space) address(Space)and age(Space)\").split();\n",
    "print(name ,age , address, sep=\", \");\n"
   ]
  }
 ],
 "metadata": {
  "kernelspec": {
   "display_name": "Python 3 (ipykernel)",
   "language": "python",
   "name": "python3"
  },
  "language_info": {
   "codemirror_mode": {
    "name": "ipython",
    "version": 3
   },
   "file_extension": ".py",
   "mimetype": "text/x-python",
   "name": "python",
   "nbconvert_exporter": "python",
   "pygments_lexer": "ipython3",
   "version": "3.12.2"
  }
 },
 "nbformat": 4,
 "nbformat_minor": 5
}
