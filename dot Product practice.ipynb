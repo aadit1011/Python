{
 "cells": [
  {
   "cell_type": "code",
   "execution_count": 1,
   "id": "024303e9-284f-4006-8c02-d02a03b2c2bd",
   "metadata": {},
   "outputs": [],
   "source": [
    "import pandas as pd \n",
    "import numpy as np \n",
    "import matplotlib.pyplot as plt "
   ]
  },
  {
   "cell_type": "code",
   "execution_count": 2,
   "id": "3696ac50-3b66-4c90-9427-7b5f7c34679c",
   "metadata": {},
   "outputs": [],
   "source": [
    "a=[2,4,6]\n",
    "b=[1,3,5]"
   ]
  },
  {
   "cell_type": "code",
   "execution_count": 3,
   "id": "27271c99-4b4b-44b0-8b38-882c264ce31d",
   "metadata": {},
   "outputs": [
    {
     "data": {
      "text/plain": [
       "44"
      ]
     },
     "execution_count": 3,
     "metadata": {},
     "output_type": "execute_result"
    }
   ],
   "source": [
    "dt=np.dot(a,b) \n",
    "dt "
   ]
  },
  {
   "cell_type": "code",
   "execution_count": null,
   "id": "b524052a-ef4e-4db4-9214-1c1944679866",
   "metadata": {},
   "outputs": [],
   "source": []
  },
  {
   "cell_type": "markdown",
   "id": "e66622a1-eed3-42c1-b9b7-07b82c270528",
   "metadata": {},
   "source": [
    "# Question 2"
   ]
  },
  {
   "cell_type": "code",
   "execution_count": 4,
   "id": "81109363-562b-4634-87e9-c6202b9209e3",
   "metadata": {},
   "outputs": [],
   "source": [
    "x=[[1,2],[3,4],[5,6]]\n",
    "y=[0.5,1.5]"
   ]
  },
  {
   "cell_type": "code",
   "execution_count": 5,
   "id": "07b04fcc-22d5-4566-9656-d762d92f73f2",
   "metadata": {},
   "outputs": [
    {
     "data": {
      "text/plain": [
       "array([ 3.5,  7.5, 11.5])"
      ]
     },
     "execution_count": 5,
     "metadata": {},
     "output_type": "execute_result"
    }
   ],
   "source": [
    "result=np.dot(x,y)\n",
    "result "
   ]
  },
  {
   "cell_type": "code",
   "execution_count": 6,
   "id": "f18860a5-2aa1-40f8-a29c-a0ea2d36e11b",
   "metadata": {},
   "outputs": [
    {
     "data": {
      "text/plain": [
       "(3,)"
      ]
     },
     "execution_count": 6,
     "metadata": {},
     "output_type": "execute_result"
    }
   ],
   "source": [
    "result.shape"
   ]
  },
  {
   "cell_type": "code",
   "execution_count": null,
   "id": "7cf57726-b59f-4d8e-844e-d43d555bb0b2",
   "metadata": {},
   "outputs": [],
   "source": []
  },
  {
   "cell_type": "markdown",
   "id": "2cea2800-2f90-4978-8ece-707ca5c5caaf",
   "metadata": {},
   "source": [
    "# Question 3"
   ]
  },
  {
   "cell_type": "code",
   "execution_count": null,
   "id": "c383fe17-2670-4f2f-914f-157095cac727",
   "metadata": {},
   "outputs": [],
   "source": []
  },
  {
   "cell_type": "code",
   "execution_count": 8,
   "id": "5f11feb4-b36f-4977-9eaf-0d245171abd0",
   "metadata": {},
   "outputs": [],
   "source": [
    "x=[[1,2,3],[4,5,6]]\n",
    "y=[0.2,-0.3]"
   ]
  },
  {
   "cell_type": "code",
   "execution_count": 10,
   "id": "50a31949-abba-40f1-a50a-eef151107413",
   "metadata": {},
   "outputs": [
    {
     "data": {
      "text/plain": [
       "matrix([[1, 2, 3],\n",
       "        [4, 5, 6]])"
      ]
     },
     "execution_count": 10,
     "metadata": {},
     "output_type": "execute_result"
    }
   ],
   "source": [
    "x=np.matrix(x)\n",
    "x "
   ]
  },
  {
   "cell_type": "code",
   "execution_count": 14,
   "id": "98653f15-a9c0-4ca3-9d19-76e5aabf0dfb",
   "metadata": {},
   "outputs": [
    {
     "data": {
      "text/plain": [
       "matrix([[1, 4],\n",
       "        [2, 5],\n",
       "        [3, 6]])"
      ]
     },
     "execution_count": 14,
     "metadata": {},
     "output_type": "execute_result"
    }
   ],
   "source": [
    "x_trans=np.transpose(x)\n",
    "x_trans"
   ]
  },
  {
   "cell_type": "code",
   "execution_count": 15,
   "id": "83354c84-1905-4b3e-b041-be13a6ded24a",
   "metadata": {},
   "outputs": [
    {
     "data": {
      "text/plain": [
       "matrix([[-1. , -1.1, -1.2]])"
      ]
     },
     "execution_count": 15,
     "metadata": {},
     "output_type": "execute_result"
    }
   ],
   "source": [
    "result=np.dot(x_trans,y)\n",
    "result "
   ]
  },
  {
   "cell_type": "code",
   "execution_count": null,
   "id": "dcf97140-11bd-4ce7-ad8c-f5370f17268e",
   "metadata": {},
   "outputs": [],
   "source": []
  },
  {
   "cell_type": "markdown",
   "id": "9a9c1762-6e83-4574-8eef-6ea9e530e535",
   "metadata": {},
   "source": [
    "# Question 3"
   ]
  },
  {
   "cell_type": "code",
   "execution_count": null,
   "id": "a9fcc620-f585-4e64-91b3-6334a69c91d4",
   "metadata": {},
   "outputs": [],
   "source": []
  },
  {
   "cell_type": "code",
   "execution_count": 16,
   "id": "b0030aae-7316-462e-8b49-17afe73157e3",
   "metadata": {},
   "outputs": [],
   "source": [
    "x=[[2,4],[6,8]]\n",
    "y=[[5],[10]]\n",
    "w=[[0.5],[1.0]]"
   ]
  },
  {
   "cell_type": "code",
   "execution_count": 17,
   "id": "81d6831d-25d5-471e-bfe5-7aa919785e2f",
   "metadata": {},
   "outputs": [
    {
     "data": {
      "text/plain": [
       "array([[ 5.],\n",
       "       [11.]])"
      ]
     },
     "execution_count": 17,
     "metadata": {},
     "output_type": "execute_result"
    }
   ],
   "source": [
    "y_pred=np.dot(x,w)\n",
    "y_pred "
   ]
  },
  {
   "cell_type": "code",
   "execution_count": 20,
   "id": "d47b7f3c-318f-4527-9054-7b14c0d1fce9",
   "metadata": {},
   "outputs": [
    {
     "data": {
      "text/plain": [
       "array([[12.],\n",
       "       [16.]])"
      ]
     },
     "execution_count": 20,
     "metadata": {},
     "output_type": "execute_result"
    }
   ],
   "source": [
    "gradient=-2*np.dot(np.transpose(x),(y-y_pred))\n",
    "gradient"
   ]
  },
  {
   "cell_type": "code",
   "execution_count": null,
   "id": "f9de2935-8ec0-430a-86fd-dcc84629270b",
   "metadata": {},
   "outputs": [],
   "source": []
  },
  {
   "cell_type": "markdown",
   "id": "dd05565b-c9dc-4a4b-b647-22cf9f4b8139",
   "metadata": {},
   "source": [
    "# Question 4 "
   ]
  },
  {
   "cell_type": "code",
   "execution_count": null,
   "id": "59a6af51-4d7b-46dc-9c71-83ed0592db96",
   "metadata": {},
   "outputs": [],
   "source": []
  },
  {
   "cell_type": "code",
   "execution_count": 27,
   "id": "7ee22d7e-b43e-46f0-b67a-f3aa0db4147b",
   "metadata": {},
   "outputs": [],
   "source": [
    "w=np.array([[1],[2]])\n",
    "lr=0.01\n",
    "w_der=np.array([[0.5],[-1.5]])"
   ]
  },
  {
   "cell_type": "code",
   "execution_count": 28,
   "id": "89d3b142-4c50-4daf-aa3d-e4e30640791c",
   "metadata": {},
   "outputs": [
    {
     "data": {
      "text/plain": [
       "array([[0.995],\n",
       "       [2.015]])"
      ]
     },
     "execution_count": 28,
     "metadata": {},
     "output_type": "execute_result"
    }
   ],
   "source": [
    "w=w-(lr*w_der)\n",
    "w"
   ]
  },
  {
   "cell_type": "code",
   "execution_count": null,
   "id": "d941bbd0-a6c8-456c-88d6-90fff4d018a1",
   "metadata": {},
   "outputs": [],
   "source": []
  },
  {
   "cell_type": "markdown",
   "id": "eaf11329-ee92-4a52-90ff-03769331ce92",
   "metadata": {},
   "source": [
    "# Question 5 "
   ]
  },
  {
   "cell_type": "code",
   "execution_count": null,
   "id": "9d47a7de-ad72-4416-a9d6-57de444e4906",
   "metadata": {},
   "outputs": [],
   "source": []
  },
  {
   "cell_type": "markdown",
   "id": "aece2dc0-9bf4-4755-a193-f027a4fb5140",
   "metadata": {},
   "source": [
    "# Gradient for Sigmoid function"
   ]
  },
  {
   "cell_type": "code",
   "execution_count": null,
   "id": "592a2aa1-609c-462c-9abf-44fbcad8097f",
   "metadata": {},
   "outputs": [],
   "source": []
  },
  {
   "cell_type": "code",
   "execution_count": 48,
   "id": "5309a6cc-670a-4b66-920b-2676966d3096",
   "metadata": {},
   "outputs": [
    {
     "data": {
      "text/plain": [
       "array([[0.19661193],\n",
       "       [0.10499359],\n",
       "       [0.04517666]])"
      ]
     },
     "execution_count": 48,
     "metadata": {},
     "output_type": "execute_result"
    }
   ],
   "source": [
    "z=np.array([[1.0],[2.0],[3.0]])\n",
    "sig=1/(1+np.exp(-z))\n",
    "sigmoid_der=sig*(1-sig)\n",
    "sigmoid_der"
   ]
  },
  {
   "cell_type": "code",
   "execution_count": null,
   "id": "722ecb1b-ada9-4ef2-aae6-174c30494ee9",
   "metadata": {},
   "outputs": [],
   "source": []
  },
  {
   "cell_type": "markdown",
   "id": "9056f411-7f39-4a82-b17c-65e06c0f03d4",
   "metadata": {},
   "source": [
    "# Using Stochastic Gradient Descent Update "
   ]
  },
  {
   "cell_type": "code",
   "execution_count": null,
   "id": "7fc4428d-0dee-4d9c-958a-53be3ba5cc5c",
   "metadata": {},
   "outputs": [],
   "source": []
  },
  {
   "cell_type": "code",
   "execution_count": null,
   "id": "51c7797a-6e99-4276-a2a3-900e60df540b",
   "metadata": {},
   "outputs": [],
   "source": []
  },
  {
   "cell_type": "code",
   "execution_count": null,
   "id": "1075aa08-cbbb-4848-8b3e-d48079fde2c7",
   "metadata": {},
   "outputs": [],
   "source": []
  },
  {
   "cell_type": "code",
   "execution_count": null,
   "id": "e89722ef-bd6f-4250-8bd1-d0274b6f8df2",
   "metadata": {},
   "outputs": [],
   "source": []
  }
 ],
 "metadata": {
  "kernelspec": {
   "display_name": "Python 3 (ipykernel)",
   "language": "python",
   "name": "python3"
  },
  "language_info": {
   "codemirror_mode": {
    "name": "ipython",
    "version": 3
   },
   "file_extension": ".py",
   "mimetype": "text/x-python",
   "name": "python",
   "nbconvert_exporter": "python",
   "pygments_lexer": "ipython3",
   "version": "3.12.2"
  }
 },
 "nbformat": 4,
 "nbformat_minor": 5
}
